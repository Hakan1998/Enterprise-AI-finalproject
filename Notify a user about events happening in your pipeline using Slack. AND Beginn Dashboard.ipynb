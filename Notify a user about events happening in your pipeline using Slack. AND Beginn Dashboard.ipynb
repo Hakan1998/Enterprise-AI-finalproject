{
  "nbformat": 4,
  "nbformat_minor": 0,
  "metadata": {
    "colab": {
      "provenance": [],
      "authorship_tag": "ABX9TyPaFMeVfO3UwCK6H+Zvj6Bw",
      "include_colab_link": true
    },
    "kernelspec": {
      "name": "python3",
      "display_name": "Python 3"
    },
    "language_info": {
      "name": "python"
    }
  },
  "cells": [
    {
      "cell_type": "markdown",
      "metadata": {
        "id": "view-in-github",
        "colab_type": "text"
      },
      "source": [
        "<a href=\"https://colab.research.google.com/github/elenawang21/enterpriseai/blob/Silas/Notify%20a%20user%20about%20events%20happening%20in%20your%20pipeline%20using%20Slack.%20AND%20Beginn%20Dashboard.ipynb\" target=\"_parent\"><img src=\"https://colab.research.google.com/assets/colab-badge.svg\" alt=\"Open In Colab\"/></a>"
      ]
    },
    {
      "cell_type": "markdown",
      "source": [
        "E-mail Alert"
      ],
      "metadata": {
        "id": "jdpHqmCo5tmW"
      }
    },
    {
      "cell_type": "code",
      "source": [
        "#EMAIL 02.07.23# BEI \"#...\" muss immer der vollständige Code von dem jeweiligen Schritt eingefügt werden oder?!\n",
        "#ggf die emails von den anderen 2 noch bei \"reciever email\" reinpacken\n",
        "\n",
        "import smtplib\n",
        "from email.mime.multipart import MIMEMultipart\n",
        "from email.mime.text import MIMEText\n",
        "\n",
        "# Funktion zum Senden der Email\n",
        "def send_email(sender_email, receiver_email, password, subject, body):\n",
        "    msg = MIMEMultipart()\n",
        "    msg['From'] = sender_email\n",
        "    msg['To'] = receiver_email\n",
        "    msg['Subject'] = subject\n",
        "    msg.attach(MIMEText(body, 'plain'))\n",
        "\n",
        "    try:\n",
        "        server = smtplib.SMTP('mail.gmx.de', 587)\n",
        "        server.starttls()\n",
        "        server.login(sender_email, password)\n",
        "        text = msg.as_string()\n",
        "        server.sendmail(sender_email, receiver_email, text)\n",
        "        server.quit()\n",
        "        print(\"Email erfolgreich gesendet!\")\n",
        "    except Exception as e:\n",
        "        print(f\"Fehler beim Senden der Email: {e}\")\n",
        "\n",
        "# E-Mail Konfiguration\n",
        "sender_email = \"Enterprise_AI@gmx.de\"\n",
        "receiver_email = \"fink.silas@gmx.de\"\n",
        "password = \"EnterpriseAI_Gruppe4\"\n",
        "\n",
        "# Beispiel Pipeline-Ereignisse\n",
        "def create_feature_engineering_pipeline():\n",
        "    # Feature Engineering Code\n",
        "    # ...\n",
        "    subject = \"Create Feature Engineering Pipeline\"\n",
        "    body = \"The feature engineering pipeline has been created.\"\n",
        "    send_email(sender_email, receiver_email, password, subject, body)\n",
        "\n",
        "def model_training_pipeline():\n",
        "    # Model Training Code\n",
        "    # ...\n",
        "    subject = \"Model Training Pipeline\"\n",
        "    body = \"The model training pipeline has been executed.\"\n",
        "    send_email(sender_email, receiver_email, password, subject, body)\n",
        "\n",
        "def inference_pipeline():\n",
        "    # Inference Code\n",
        "    # ...\n",
        "    subject = \"Inference Pipeline\"\n",
        "    body = \"The inference pipeline has been executed.\"\n",
        "    send_email(sender_email, receiver_email, password, subject, body)\n",
        "\n",
        "def train_and_deploy_models():\n",
        "    # Train and Deploy Models Code\n",
        "    # ...\n",
        "    subject = \"Train Different Models and Deploy Best One\"\n",
        "    body = \"Different models have been trained and the best one has been deployed.\"\n",
        "    send_email(sender_email, receiver_email, password, subject, body)\n",
        "\n",
        "def create_extensive_feature_engineering_step():\n",
        "    # Extensive Feature Engineering Code\n",
        "    # ...\n",
        "    subject = \"Create Extensive Feature Engineering Step\"\n",
        "    body = \"An extensive feature engineering step has been created.\"\n",
        "    send_email(sender_email, receiver_email, password, subject, body)\n",
        "\n",
        "# die Ausführung der Pipelines\n",
        "create_feature_engineering_pipeline()\n",
        "model_training_pipeline()\n",
        "inference_pipeline()\n",
        "train_and_deploy_models()\n",
        "create_extensive_feature_engineering_step()"
      ],
      "metadata": {
        "colab": {
          "base_uri": "https://localhost:8080/"
        },
        "id": "xMj3IRxpRUkb",
        "outputId": "8dd93355-8e61-42df-b6a1-6e762e7c121a"
      },
      "execution_count": null,
      "outputs": [
        {
          "output_type": "stream",
          "name": "stdout",
          "text": [
            "Email erfolgreich gesendet!\n",
            "Email erfolgreich gesendet!\n",
            "Email erfolgreich gesendet!\n",
            "Email erfolgreich gesendet!\n",
            "Email erfolgreich gesendet!\n"
          ]
        }
      ]
    }
  ]
}