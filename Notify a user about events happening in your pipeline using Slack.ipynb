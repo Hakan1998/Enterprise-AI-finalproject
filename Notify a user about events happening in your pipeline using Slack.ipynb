{
  "nbformat": 4,
  "nbformat_minor": 0,
  "metadata": {
    "colab": {
      "provenance": [],
      "authorship_tag": "ABX9TyNlbJPWBAfS6vmOVnuT6oSy",
      "include_colab_link": true
    },
    "kernelspec": {
      "name": "python3",
      "display_name": "Python 3"
    },
    "language_info": {
      "name": "python"
    }
  },
  "cells": [
    {
      "cell_type": "markdown",
      "metadata": {
        "id": "view-in-github",
        "colab_type": "text"
      },
      "source": [
        "<a href=\"https://colab.research.google.com/github/elenawang21/enterpriseai/blob/Silas/Notify%20a%20user%20about%20events%20happening%20in%20your%20pipeline%20using%20Slack.ipynb\" target=\"_parent\"><img src=\"https://colab.research.google.com/assets/colab-badge.svg\" alt=\"Open In Colab\"/></a>"
      ]
    },
    {
      "cell_type": "code",
      "source": [
        "#Versuch Slack Benachrichtigungen zu implementieren#\n",
        "\n",
        "\n",
        "import requests\n",
        "\n",
        "def send_slack_notification(message, webhook_url):\n",
        "    payload = {'text': message}\n",
        "    response = requests.post(webhook_url, json=payload)\n",
        "    return response.status_code\n",
        "\n",
        "webhook_url = 'https://hooks.slack.com/services/DEIN/WEBHOOK/URL'\n",
        "\n",
        "# Beispiel für die Pipeline\n",
        "\n",
        "def create_feature_engineering_pipeline():\n",
        "    try:\n",
        "        # Feature Engineering Code\n",
        "        # ...\n",
        "        print(\"Feature Engineering Pipeline erstellt.\")\n",
        "    except Exception as e:\n",
        "        print(f\"Error in feature engineering pipeline: {e}\")\n",
        "        return\n",
        "    send_slack_notification(\"Feature Engineering Pipeline erstellt.\", webhook_url)\n",
        "\n",
        "def model_training_pipeline():\n",
        "    try:\n",
        "        # Model Training Code\n",
        "        # ...\n",
        "        print(\"Model Training Pipeline abgeschlossen.\")\n",
        "    except Exception as e:\n",
        "        print(f\"Error in model training pipeline: {e}\")\n",
        "        return\n",
        "    send_slack_notification(\"Model Training Pipeline abgeschlossen.\", webhook_url)\n",
        "\n",
        "def inference_pipeline():\n",
        "    try:\n",
        "        # Inference Pipeline Code\n",
        "        # ...\n",
        "        print(\"Inference Pipeline abgeschlossen.\")\n",
        "    except Exception as e:\n",
        "        print(f\"Error in inference pipeline: {e}\")\n",
        "        return\n",
        "    send_slack_notification(\"Inference Pipeline abgeschlossen.\", webhook_url)\n",
        "\n",
        "def train_and_deploy_models():\n",
        "    try:\n",
        "        # Train Different Models and Deploy Best One\n",
        "        # ...\n",
        "        print(\"Modelle trainiert und das beste Modell deployed.\")\n",
        "    except Exception as e:\n",
        "        print(f\"Error in train and deploy models pipeline: {e}\")\n",
        "        return\n",
        "    send_slack_notification(\"Modelle trainiert und das beste Modell deployed.\", webhook_url)\n",
        "\n",
        "def extensive_feature_engineering_step():\n",
        "    try:\n",
        "        # Extensive Feature Engineering Code\n",
        "        # ...\n",
        "        print(\"Extensiver Feature Engineering Schritt abgeschlossen.\")\n",
        "    except Exception as e:\n",
        "        print(f\"Error in extensive feature engineering step: {e}\")\n",
        "        return\n",
        "    send_slack_notification(\"Extensiver Feature Engineering Schritt abgeschlossen.\", webhook_url)\n",
        "\n",
        "# Pipeline Ablauf\n",
        "\n",
        "create_feature_engineering_pipeline()\n",
        "model_training_pipeline()\n",
        "inference_pipeline()\n",
        "train_and_deploy_models()\n",
        "extensive_feature_engineering_step()\n"
      ],
      "metadata": {
        "id": "X9eEVFaRsulE",
        "outputId": "7d276dde-0b05-4aeb-fcaf-fc786b8dc1eb",
        "colab": {
          "base_uri": "https://localhost:8080/"
        }
      },
      "execution_count": 29,
      "outputs": [
        {
          "output_type": "stream",
          "name": "stdout",
          "text": [
            "Feature Engineering Pipeline erstellt.\n",
            "Model Training Pipeline abgeschlossen.\n",
            "Inference Pipeline abgeschlossen.\n",
            "Modelle trainiert und das beste Modell deployed.\n",
            "Extensiver Feature Engineering Schritt abgeschlossen.\n"
          ]
        }
      ]
    },
    {
      "cell_type": "code",
      "source": [
        "#Versuch über E-mail#\n",
        "\n",
        "import smtplib\n",
        "from email.mime.text import MIMEText\n",
        "import requests\n",
        "\n",
        "def send_email(subject, body, to_email):\n",
        "    from_email = \"Enterprise_AI@gmx.de\"\n",
        "    password = \"EnterpriseAI_Gruppe4\"\n",
        "\n",
        "    msg = MIMEText(body)\n",
        "    msg['Subject'] = subject\n",
        "    msg['From'] = from_email\n",
        "    msg['To'] = to_email\n",
        "\n",
        "    try:\n",
        "        with smtplib.SMTP_SSL('smtp.mail.gmx.net', 465) as server:\n",
        "            server.login(from_email, password)\n",
        "            server.sendmail(from_email, to_email, msg.as_string())\n",
        "        print(f\"E-Mail an {to_email} erfolgreich gesendet!\")\n",
        "    except Exception as e:\n",
        "        print(f\"Fehler beim Senden der E-Mail an {to_email}: {e}\")\n",
        "\n",
        "def send_slack_notification(message, webhook_url):\n",
        "    payload = {'text': message}\n",
        "    response = requests.post(webhook_url, json=payload)\n",
        "    return response.status_code\n",
        "\n",
        "webhook_url = 'https://hooks.slack.com/services/DEIN/WEBHOOK/URL'\n",
        "\n",
        "# Beispiel für die Pipeline-Funktionen (wie zuvor definiert)\n",
        "\n",
        "def create_feature_engineering_pipeline():\n",
        "    # Feature Engineering Code\n",
        "    # ...\n",
        "    send_email(\"Pipeline Update\", \"Feature Engineering Pipeline erstellt.\", \"Enterprise_AI@gmx.de\")\n",
        "    send_slack_notification(\"Feature Engineering Pipeline erstellt.\", webhook_url)\n",
        "\n",
        "def model_training_pipeline():\n",
        "    # Model Training Code\n",
        "    # ...\n",
        "    send_email(\"Pipeline Update\", \"Model Training Pipeline abgeschlossen.\", \"Enterprise_AI@gmx.de\")\n",
        "    send_slack_notification(\"Model Training Pipeline abgeschlossen.\", webhook_url)\n",
        "\n",
        "def inference_pipeline():\n",
        "    # Inference Pipeline Code\n",
        "    # ...\n",
        "    send_email(\"Pipeline Update\", \"Inference Pipeline abgeschlossen.\", \"benutzer@example.com\")\n",
        "    send_slack_notification(\"Inference Pipeline abgeschlossen.\", webhook_url)\n",
        "\n",
        "def train_and_deploy_models():\n",
        "    # Train Different Models and Deploy Best One\n",
        "    # ...\n",
        "    send_email(\"Pipeline Update\", \"Modelle trainiert und das beste Modell deployed.\", \"benutzer@example.com\")\n",
        "    send_slack_notification(\"Modelle trainiert und das beste Modell deployed.\", webhook_url)\n",
        "\n",
        "def extensive_feature_engineering_step():\n",
        "    # Extensive Feature Engineering Code\n",
        "    # ...\n",
        "    send_email(\"Pipeline Update\", \"Extensiver Feature Engineering Schritt abgeschlossen.\", \"Enterprise_AI@gmx.de\")\n",
        "    send_slack_notification(\"Extensiver Feature Engineering Schritt abgeschlossen.\", webhook_url)\n",
        "\n",
        "# Pipeline Ablauf\n",
        "\n",
        "if __name__ == \"__main__\":\n",
        "    create_feature_engineering_pipeline()\n",
        "    model_training_pipeline()\n",
        "    inference_pipeline()\n",
        "    train_and_deploy_models()\n",
        "    extensive_feature_engineering_step()"
      ],
      "metadata": {
        "id": "5Y2ylXQ41Fte",
        "outputId": "895eef62-82c5-4cb4-8e63-d8838d66bb27",
        "colab": {
          "base_uri": "https://localhost:8080/"
        }
      },
      "execution_count": 44,
      "outputs": [
        {
          "output_type": "stream",
          "name": "stdout",
          "text": [
            "Fehler beim Senden der E-Mail an Enterprise_AI@gmx.de: [Errno -2] Name or service not known\n",
            "Fehler beim Senden der E-Mail an Enterprise_AI@gmx.de: [Errno -2] Name or service not known\n",
            "Fehler beim Senden der E-Mail an benutzer@example.com: [Errno -2] Name or service not known\n",
            "Fehler beim Senden der E-Mail an benutzer@example.com: [Errno -2] Name or service not known\n",
            "Fehler beim Senden der E-Mail an Enterprise_AI@gmx.de: [Errno -2] Name or service not known\n"
          ]
        }
      ]
    },
    {
      "cell_type": "code",
      "source": [],
      "metadata": {
        "id": "sioBIyaW2RUZ"
      },
      "execution_count": null,
      "outputs": []
    }
  ]
}