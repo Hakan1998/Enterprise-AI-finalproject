{
  "nbformat": 4,
  "nbformat_minor": 0,
  "metadata": {
    "colab": {
      "provenance": [],
      "authorship_tag": "ABX9TyP9BupPue+ovDrp04RmjAd2",
      "include_colab_link": true
    },
    "kernelspec": {
      "name": "python3",
      "display_name": "Python 3"
    },
    "language_info": {
      "name": "python"
    }
  },
  "cells": [
    {
      "cell_type": "markdown",
      "metadata": {
        "id": "view-in-github",
        "colab_type": "text"
      },
      "source": [
        "<a href=\"https://colab.research.google.com/github/elenawang21/enterpriseai/blob/main/EDA_2.ipynb\" target=\"_parent\"><img src=\"https://colab.research.google.com/assets/colab-badge.svg\" alt=\"Open In Colab\"/></a>"
      ]
    },
    {
      "cell_type": "markdown",
      "source": [
        "Im Schritt Exploratory Data Analysis (EDA) versuchen wir die Daten zu verstehen und uns mit ihnen vertraut zu machen"
      ],
      "metadata": {
        "id": "lRnfDQ9ovFSq"
      }
    },
    {
      "cell_type": "markdown",
      "source": [
        "#Importing neccesary libraries#"
      ],
      "metadata": {
        "id": "LW4efwCbNWGK"
      }
    },
    {
      "cell_type": "code",
      "source": [
        "import pandas as pd #library for data manipulation and analysis#\n",
        "import seaborn as sns #for data visualization#\n",
        "import numpy as np #library for numerical computing#\n",
        "import matplotlib.pyplot as plt #for data visualization#\n",
        "\n",
        "import warnings\n",
        "warnings.filterwarnings(\"ignore\")\n"
      ],
      "metadata": {
        "id": "wNYMg7ycNnc8"
      },
      "execution_count": 5,
      "outputs": []
    },
    {
      "cell_type": "markdown",
      "source": [
        "# loading and reading dataset (hier nochmal drüberschauen ob es nicht möglich ist das (df = pd.read_csv(\"heart.csv\")\n",
        "df = pd.read_csv(\"o2Saturation.csv\") zussammenzufassen wie im bsp --> df = pd.read_csv(\"/kaggle/input/heart-attack-analysis-prediction-dataset/heart.csv\")\n",
        "\n",
        "https://www.kaggle.com/code/namanmanchanda/heart-attack-eda-prediction-90-accuracy\n",
        "\n"
      ],
      "metadata": {
        "id": "tvCcxEFfVZMS"
      }
    },
    {
      "cell_type": "markdown",
      "source": [],
      "metadata": {
        "id": "DAynktRpfWUY"
      }
    },
    {
      "cell_type": "code",
      "source": [
        "file_path = (\"/content/Heart_Attack_Data_Final Assignment/content/heart-attack-analysis-prediction-dataset\")\n",
        "df = pd.read_csv(\"/content/Heart_Attack_Data_Final Assignment/content/heart-attack-analysis-prediction-dataset/heart.csv\")"
      ],
      "metadata": {
        "id": "JuSOZRlWWjTx"
      },
      "execution_count": 28,
      "outputs": []
    },
    {
      "cell_type": "markdown",
      "source": [
        "The following steps helps us to understand the data and make us more familiar with the dataset"
      ],
      "metadata": {
        "id": "vxOHSCWNooCT"
      }
    },
    {
      "cell_type": "code",
      "source": [
        "print(\"The shape of the dataset is : \", df.shape) #Um herauszufinden wieviel \"rows\" und \"columns\" der Datensatz umfasst"
      ],
      "metadata": {
        "id": "TQpjTPH4nMR9",
        "outputId": "fe437fc0-a477-4ea5-f20a-34001a1b47d4",
        "colab": {
          "base_uri": "https://localhost:8080/"
        }
      },
      "execution_count": 29,
      "outputs": [
        {
          "output_type": "stream",
          "name": "stdout",
          "text": [
            "The shape of the dataset is :  (303, 14)\n"
          ]
        }
      ]
    },
    {
      "cell_type": "markdown",
      "source": [
        "Separieren der Columns in \"categorical\" und \"continuous\", da sie je nach Analysetechnik verschieden behandelt werden müssen"
      ],
      "metadata": {
        "id": "17F7edCNnOCw"
      }
    },
    {
      "cell_type": "code",
      "source": [
        "con_cols = [\"age\",\"trtbps\",\"chol\",\"thalachh\",\"oldpeak\"]\n",
        "cat_cols = ['sex','exng','caa','cp','fbs','restecg','slp','thall']\n",
        "target_col = [\"output\"]\n",
        "print(\"The continuous cols are : \", con_cols)\n",
        "print(\"The categorial cols are : \", cat_cols)\n",
        "print(\"The target variable is :  \", target_col)"
      ],
      "metadata": {
        "id": "kWR2O-RJp-50",
        "outputId": "bee7e1b0-a29a-4e9e-9f28-7cd73611814a",
        "colab": {
          "base_uri": "https://localhost:8080/"
        }
      },
      "execution_count": 35,
      "outputs": [
        {
          "output_type": "stream",
          "name": "stdout",
          "text": [
            "The continuous cols are :  ['age', 'trtbps', 'chol', 'thalachh', 'oldpeak']\n",
            "The categorial cols are :  ['sex', 'exng', 'caa', 'cp', 'fbs', 'restecg', 'slp', 'thall']\n",
            "The target variable is :   ['output']\n"
          ]
        }
      ]
    },
    {
      "cell_type": "markdown",
      "source": [
        "Untersuchung des Datensatzes auf fehlende Werte, da fehlende Werte die Robustheit und Zuverlässigkeit einschränken können"
      ],
      "metadata": {
        "id": "LrKUhJ0DsDeZ"
      }
    },
    {
      "cell_type": "code",
      "source": [
        "df.isnull().sum() #keine fehlenden Werte#"
      ],
      "metadata": {
        "id": "iEpON5ndsQlj",
        "outputId": "d8d4c36a-fdd5-484e-b782-17187fb9af38",
        "colab": {
          "base_uri": "https://localhost:8080/"
        }
      },
      "execution_count": 33,
      "outputs": [
        {
          "output_type": "execute_result",
          "data": {
            "text/plain": [
              "age         0\n",
              "sex         0\n",
              "cp          0\n",
              "trtbps      0\n",
              "chol        0\n",
              "fbs         0\n",
              "restecg     0\n",
              "thalachh    0\n",
              "exng        0\n",
              "oldpeak     0\n",
              "slp         0\n",
              "caa         0\n",
              "thall       0\n",
              "output      0\n",
              "dtype: int64"
            ]
          },
          "metadata": {},
          "execution_count": 33
        }
      ]
    },
    {
      "cell_type": "markdown",
      "source": [
        "(ggf Grafiken usw einfügen aber falls ja drüber reden welche usw)\n"
      ],
      "metadata": {
        "id": "MWQXiooXu6Wc"
      }
    },
    {
      "cell_type": "markdown",
      "source": [
        "ggf noch kurze conclusion schreiben (\"was fällt uns auf/was ist auffällig bei dem Datensatz?\""
      ],
      "metadata": {
        "id": "syysJpiMx2N-"
      }
    }
  ]
}