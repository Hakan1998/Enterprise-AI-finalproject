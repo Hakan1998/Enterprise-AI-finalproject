{
  "nbformat": 4,
  "nbformat_minor": 0,
  "metadata": {
    "colab": {
      "provenance": [],
      "authorship_tag": "ABX9TyPEINeSYaDNhnLtVgUKYp7f",
      "include_colab_link": true
    },
    "kernelspec": {
      "name": "python3",
      "display_name": "Python 3"
    },
    "language_info": {
      "name": "python"
    }
  },
  "cells": [
    {
      "cell_type": "markdown",
      "metadata": {
        "id": "view-in-github",
        "colab_type": "text"
      },
      "source": [
        "<a href=\"https://colab.research.google.com/github/elenawang21/enterpriseai/blob/main/EDA.ipynb\" target=\"_parent\"><img src=\"https://colab.research.google.com/assets/colab-badge.svg\" alt=\"Open In Colab\"/></a>"
      ]
    },
    {
      "cell_type": "code",
      "execution_count": null,
      "metadata": {
        "id": "XGwR5zy7NRsn"
      },
      "outputs": [],
      "source": []
    },
    {
      "cell_type": "markdown",
      "source": [
        "#Importing neccesary libraries#"
      ],
      "metadata": {
        "id": "LW4efwCbNWGK"
      }
    },
    {
      "cell_type": "code",
      "source": [
        "import pandas as pd\n",
        "import numpy as np\n",
        "import seaborn as sns\n",
        "import matplotlib.pyplot as plt\n",
        "\n",
        "import warnings\n",
        "warnings.filterwarnings(\"ignore\")"
      ],
      "metadata": {
        "id": "wNYMg7ycNnc8"
      },
      "execution_count": 4,
      "outputs": []
    },
    {
      "cell_type": "markdown",
      "source": [
        "# loading and reading dataset (hier nochmal drüberschauen ob es nicht möglich ist das (df = pd.read_csv(\"heart.csv\")\n",
        "df = pd.read_csv(\"o2Saturation.csv\") zussammenzufassen wie im bsp --> df = pd.read_csv(\"/kaggle/input/heart-attack-analysis-prediction-dataset/heart.csv\")"
      ],
      "metadata": {
        "id": "tvCcxEFfVZMS"
      }
    },
    {
      "cell_type": "code",
      "source": [
        "\n",
        "file_path = (\"/content/archive_heart_attack_module_Enterprise_AI.zip\")\n",
        "df = pd.read_csv(\"heart.csv\")\n",
        "df = pd.read_csv(\"o2Saturation.csv\")"
      ],
      "metadata": {
        "id": "JuSOZRlWWjTx"
      },
      "execution_count": 16,
      "outputs": []
    }
  ]
}