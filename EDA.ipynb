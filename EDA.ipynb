{
  "nbformat": 4,
  "nbformat_minor": 0,
  "metadata": {
    "colab": {
      "provenance": [],
      "authorship_tag": "ABX9TyPGOng/fzL4IaeaacZnkFXQ",
      "include_colab_link": true
    },
    "kernelspec": {
      "name": "python3",
      "display_name": "Python 3"
    },
    "language_info": {
      "name": "python"
    }
  },
  "cells": [
    {
      "cell_type": "markdown",
      "metadata": {
        "id": "view-in-github",
        "colab_type": "text"
      },
      "source": [
        "<a href=\"https://colab.research.google.com/github/elenawang21/enterpriseai/blob/main/EDA.ipynb\" target=\"_parent\"><img src=\"https://colab.research.google.com/assets/colab-badge.svg\" alt=\"Open In Colab\"/></a>"
      ]
    },
    {
      "cell_type": "code",
      "execution_count": null,
      "metadata": {
        "id": "XGwR5zy7NRsn"
      },
      "outputs": [],
      "source": []
    },
    {
      "cell_type": "markdown",
      "source": [
        "#Importing neccesary libraries#"
      ],
      "metadata": {
        "id": "LW4efwCbNWGK"
      }
    },
    {
      "cell_type": "code",
      "source": [
        "import pandas as pd\n",
        "import numpy as np\n",
        "import seaborn as sns\n",
        "import matplotlib.pyplot as plt\n",
        "\n",
        "import warnings\n",
        "warnings.filterwarnings(\"ignore\")"
      ],
      "metadata": {
        "id": "wNYMg7ycNnc8"
      },
      "execution_count": 4,
      "outputs": []
    },
    {
      "cell_type": "markdown",
      "source": [
        "Kaggle API einrichten NOTWENDIG?"
      ],
      "metadata": {
        "id": "3eW5tjs3ehyp"
      }
    },
    {
      "cell_type": "code",
      "source": [
        "# Kaggle API installieren\n",
        "!pip install kaggle\n",
        "\n",
        "# Kaggle API-Schlüssel konfigurieren\n",
        "import json\n",
        "import os\n",
        "\n",
        "# Kaggle API-Schlüssel von hochgeladener Datei lesen\n",
        "with open('/content/kaggle.json') as f:\n",
        "    kaggle_creds = json.load(f)\n",
        "\n",
        "# Kaggle API-Schlüssel einrichten\n",
        "os.environ['KAGGLE_USERNAME'] = kaggle_creds['username']\n",
        "os.environ['KAGGLE_KEY'] = kaggle_creds['key']\n",
        "\n",
        "# Kaggle Dataset herunterladen\n",
        "!kaggle datasets download -d rashikrahmanpritom/heart-attack-analysis-prediction-dataset\n",
        "\n",
        "# Heruntergeladenes Zip-Archiv entpacken\n",
        "!unzip heart-attack-analysis-prediction-dataset.zip"
      ],
      "metadata": {
        "id": "bT0chgHCeky-",
        "outputId": "f40c42c1-7139-4675-9624-c6bdccdb5531",
        "colab": {
          "base_uri": "https://localhost:8080/"
        }
      },
      "execution_count": 30,
      "outputs": [
        {
          "output_type": "stream",
          "name": "stdout",
          "text": [
            "Requirement already satisfied: kaggle in /usr/local/lib/python3.10/dist-packages (1.6.14)\n",
            "Requirement already satisfied: six>=1.10 in /usr/local/lib/python3.10/dist-packages (from kaggle) (1.16.0)\n",
            "Requirement already satisfied: certifi>=2023.7.22 in /usr/local/lib/python3.10/dist-packages (from kaggle) (2024.6.2)\n",
            "Requirement already satisfied: python-dateutil in /usr/local/lib/python3.10/dist-packages (from kaggle) (2.8.2)\n",
            "Requirement already satisfied: requests in /usr/local/lib/python3.10/dist-packages (from kaggle) (2.31.0)\n",
            "Requirement already satisfied: tqdm in /usr/local/lib/python3.10/dist-packages (from kaggle) (4.66.4)\n",
            "Requirement already satisfied: python-slugify in /usr/local/lib/python3.10/dist-packages (from kaggle) (8.0.4)\n",
            "Requirement already satisfied: urllib3 in /usr/local/lib/python3.10/dist-packages (from kaggle) (2.0.7)\n",
            "Requirement already satisfied: bleach in /usr/local/lib/python3.10/dist-packages (from kaggle) (6.1.0)\n",
            "Requirement already satisfied: webencodings in /usr/local/lib/python3.10/dist-packages (from bleach->kaggle) (0.5.1)\n",
            "Requirement already satisfied: text-unidecode>=1.3 in /usr/local/lib/python3.10/dist-packages (from python-slugify->kaggle) (1.3)\n",
            "Requirement already satisfied: charset-normalizer<4,>=2 in /usr/local/lib/python3.10/dist-packages (from requests->kaggle) (3.3.2)\n",
            "Requirement already satisfied: idna<4,>=2.5 in /usr/local/lib/python3.10/dist-packages (from requests->kaggle) (3.7)\n",
            "Dataset URL: https://www.kaggle.com/datasets/rashikrahmanpritom/heart-attack-analysis-prediction-dataset\n",
            "License(s): CC0-1.0\n",
            "Downloading heart-attack-analysis-prediction-dataset.zip to /content\n",
            "  0% 0.00/4.11k [00:00<?, ?B/s]\n",
            "100% 4.11k/4.11k [00:00<00:00, 7.66MB/s]\n",
            "Archive:  heart-attack-analysis-prediction-dataset.zip\n",
            "replace heart.csv? [y]es, [n]o, [A]ll, [N]one, [r]ename: "
          ]
        }
      ]
    },
    {
      "cell_type": "markdown",
      "source": [
        "# loading and reading dataset (hier nochmal drüberschauen ob es nicht möglich ist das (df = pd.read_csv(\"heart.csv\")\n",
        "df = pd.read_csv(\"o2Saturation.csv\") zussammenzufassen wie im bsp --> df = pd.read_csv(\"/kaggle/input/heart-attack-analysis-prediction-dataset/heart.csv\")\n",
        "\n",
        "https://www.kaggle.com/code/namanmanchanda/heart-attack-eda-prediction-90-accuracy\n",
        "\n"
      ],
      "metadata": {
        "id": "tvCcxEFfVZMS"
      }
    },
    {
      "cell_type": "markdown",
      "source": [],
      "metadata": {
        "id": "DAynktRpfWUY"
      }
    },
    {
      "cell_type": "code",
      "source": [
        "\n",
        "file_path = (\"/content/archive_heart_attack_module_Enterprise_AI.zip\")\n",
        "df = pd.read_csv(\"heart.csv\")\n",
        "df = pd.read_csv(\"o2Saturation.csv\")"
      ],
      "metadata": {
        "id": "JuSOZRlWWjTx"
      },
      "execution_count": 16,
      "outputs": []
    }
  ]
}